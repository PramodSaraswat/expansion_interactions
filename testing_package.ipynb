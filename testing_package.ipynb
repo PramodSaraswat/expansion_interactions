{
 "cells": [
  {
   "cell_type": "code",
   "execution_count": 1,
   "metadata": {
    "collapsed": false
   },
   "outputs": [
    {
     "name": "stdout",
     "output_type": "stream",
     "text": [
      "Populating the interactive namespace from numpy and matplotlib\n"
     ]
    }
   ],
   "source": [
    "%pylab inline"
   ]
  },
  {
   "cell_type": "code",
   "execution_count": 2,
   "metadata": {
    "collapsed": false
   },
   "outputs": [],
   "source": [
    "%load_ext autoreload\n",
    "%autoreload 2"
   ]
  },
  {
   "cell_type": "code",
   "execution_count": 3,
   "metadata": {
    "collapsed": false
   },
   "outputs": [],
   "source": [
    "import seaborn as sns"
   ]
  },
  {
   "cell_type": "code",
   "execution_count": 4,
   "metadata": {
    "collapsed": true
   },
   "outputs": [],
   "source": [
    "sns.set_context('poster', font_scale=1.25)"
   ]
  },
  {
   "cell_type": "code",
   "execution_count": 5,
   "metadata": {
    "collapsed": true
   },
   "outputs": [],
   "source": [
    "sns.set_style('ticks')"
   ]
  },
  {
   "cell_type": "code",
   "execution_count": 6,
   "metadata": {
    "collapsed": true
   },
   "outputs": [],
   "source": [
    "import expansion_interactions as ei"
   ]
  },
  {
   "cell_type": "code",
   "execution_count": 7,
   "metadata": {
    "collapsed": false
   },
   "outputs": [
    {
     "data": {
      "text/plain": [
       "0.2933673469387755"
      ]
     },
     "execution_count": 7,
     "metadata": {},
     "output_type": "execute_result"
    }
   ],
   "source": [
    "ei.sc"
   ]
  },
  {
   "cell_type": "code",
   "execution_count": 10,
   "metadata": {
    "collapsed": false
   },
   "outputs": [],
   "source": [
    "strain_names = ['mCherry', 'eCFP', 'Black', 'eYFP']\n",
    "zeta_measured = [0, .10, .19, .18]"
   ]
  },
  {
   "cell_type": "code",
   "execution_count": 12,
   "metadata": {
    "collapsed": false
   },
   "outputs": [],
   "source": [
    "\n",
    "num_strains = len(zeta_measured)\n",
    "\n",
    "# Derive relative growth rates relative to the first strain\n",
    "velocity_sq_ratios = np.zeros((num_strains, num_strains), dtype=np.double)\n",
    "for i in range(num_strains):\n",
    "    for j in range(num_strains):\n",
    "        ui_sq_div_ref = 1 + zeta_measured[i]**2/4.\n",
    "        uj_sq_div_ref = 1 + zeta_measured[j]**2/4.\n",
    "        ui_sq_div_uj_sq = ui_sq_div_ref/uj_sq_div_ref\n",
    "        velocity_sq_ratios[i, j] = ui_sq_div_uj_sq\n",
    "\n",
    "vw_div_u = np.sqrt(velocity_sq_ratios-1)"
   ]
  },
  {
   "cell_type": "code",
   "execution_count": 13,
   "metadata": {
    "collapsed": false
   },
   "outputs": [
    {
     "data": {
      "text/plain": [
       "array([[ 0.        ,         nan,         nan,         nan],\n",
       "       [ 0.05      ,  0.        ,         nan,         nan],\n",
       "       [ 0.095     ,  0.08067669,  0.        ,  0.03029138],\n",
       "       [ 0.09      ,  0.07473978,         nan,  0.        ]])"
      ]
     },
     "execution_count": 13,
     "metadata": {},
     "output_type": "execute_result"
    }
   ],
   "source": [
    "vw_div_u"
   ]
  },
  {
   "cell_type": "markdown",
   "metadata": {},
   "source": [
    "Ok, this actually looks reasonable...why didn't I do this earlier? It would have saved me a lot of time..."
   ]
  },
  {
   "cell_type": "markdown",
   "metadata": {},
   "source": [
    "We now get the dataframe we want."
   ]
  },
  {
   "cell_type": "code",
   "execution_count": 18,
   "metadata": {
    "collapsed": true
   },
   "outputs": [],
   "source": [
    "import pandas as pd"
   ]
  },
  {
   "cell_type": "code",
   "execution_count": 19,
   "metadata": {
    "collapsed": true
   },
   "outputs": [],
   "source": [
    "Dw = 0.092\n",
    "u = 1.15\n",
    "Ro = 3.50\n",
    "Ro_star = 1.84\n",
    "Dg = .56\n",
    "\n",
    "# For superdiffusive walk\n",
    "Db = 0.13\n",
    "b = 1.53"
   ]
  },
  {
   "cell_type": "code",
   "execution_count": 35,
   "metadata": {
    "collapsed": false
   },
   "outputs": [],
   "source": [
    "all_data = []\n",
    "for i in range(num_strains):\n",
    "    for j in range(num_strains):\n",
    "        cur_vw_div_u = vw_div_u[i, j]\n",
    "        if np.isfinite(cur_vw_div_u) and (cur_vw_div_u != 0):\n",
    "            data_list = []\n",
    "            \n",
    "            vw = cur_vw_div_u * u\n",
    "            Ls = u*Dw/vw**2\n",
    "\n",
    "            kappa = np.sqrt(Ro/Ls)\n",
    "\n",
    "            sweeper = strain_names[i]\n",
    "            sweepee = strain_names[j]\n",
    "            \n",
    "            data_list.append(sweeper)\n",
    "            data_list.append(sweepee)\n",
    "            velocity_ratio = np.sqrt(velocity_sq_ratios[i, j])\n",
    "            data_list.append(velocity_ratio)\n",
    "            data_list.append(vw)\n",
    "            data_list.append(Ls)\n",
    "            data_list.append(kappa)\n",
    "            \n",
    "            all_data.append(data_list)"
   ]
  },
  {
   "cell_type": "code",
   "execution_count": 36,
   "metadata": {
    "collapsed": false
   },
   "outputs": [],
   "source": [
    "interact_df = pd.DataFrame(data=all_data, columns=['Sweeper',\n",
    "                                                        'Sweepee',\n",
    "                                                        'Velocity Ratios',\n",
    "                                                        'vw',\n",
    "                                                        'Ls',\n",
    "                                                        'kappa'])"
   ]
  },
  {
   "cell_type": "code",
   "execution_count": 37,
   "metadata": {
    "collapsed": false
   },
   "outputs": [],
   "source": [
    "interact_df.sort_values('Ls', inplace=True)"
   ]
  },
  {
   "cell_type": "code",
   "execution_count": 38,
   "metadata": {
    "collapsed": false
   },
   "outputs": [
    {
     "data": {
      "text/html": [
       "<div>\n",
       "<table border=\"1\" class=\"dataframe\">\n",
       "  <thead>\n",
       "    <tr style=\"text-align: right;\">\n",
       "      <th></th>\n",
       "      <th>Sweeper</th>\n",
       "      <th>Sweepee</th>\n",
       "      <th>Velocity Ratios</th>\n",
       "      <th>vw</th>\n",
       "      <th>Ls</th>\n",
       "      <th>kappa</th>\n",
       "    </tr>\n",
       "  </thead>\n",
       "  <tbody>\n",
       "    <tr>\n",
       "      <th>1</th>\n",
       "      <td>Black</td>\n",
       "      <td>mCherry</td>\n",
       "      <td>1.004502</td>\n",
       "      <td>0.109250</td>\n",
       "      <td>8.864266</td>\n",
       "      <td>0.455604</td>\n",
       "    </tr>\n",
       "    <tr>\n",
       "      <th>4</th>\n",
       "      <td>eYFP</td>\n",
       "      <td>mCherry</td>\n",
       "      <td>1.004042</td>\n",
       "      <td>0.103500</td>\n",
       "      <td>9.876543</td>\n",
       "      <td>0.431625</td>\n",
       "    </tr>\n",
       "    <tr>\n",
       "      <th>2</th>\n",
       "      <td>Black</td>\n",
       "      <td>eCFP</td>\n",
       "      <td>1.003249</td>\n",
       "      <td>0.092778</td>\n",
       "      <td>12.291188</td>\n",
       "      <td>0.386912</td>\n",
       "    </tr>\n",
       "    <tr>\n",
       "      <th>5</th>\n",
       "      <td>eYFP</td>\n",
       "      <td>eCFP</td>\n",
       "      <td>1.002789</td>\n",
       "      <td>0.085951</td>\n",
       "      <td>14.321429</td>\n",
       "      <td>0.358439</td>\n",
       "    </tr>\n",
       "    <tr>\n",
       "      <th>0</th>\n",
       "      <td>eCFP</td>\n",
       "      <td>mCherry</td>\n",
       "      <td>1.001249</td>\n",
       "      <td>0.057500</td>\n",
       "      <td>32.000000</td>\n",
       "      <td>0.239792</td>\n",
       "    </tr>\n",
       "    <tr>\n",
       "      <th>3</th>\n",
       "      <td>Black</td>\n",
       "      <td>eYFP</td>\n",
       "      <td>1.000459</td>\n",
       "      <td>0.034835</td>\n",
       "      <td>87.187027</td>\n",
       "      <td>0.145272</td>\n",
       "    </tr>\n",
       "  </tbody>\n",
       "</table>\n",
       "</div>"
      ],
      "text/plain": [
       "  Sweeper  Sweepee  Velocity Ratios        vw         Ls     kappa\n",
       "1   Black  mCherry         1.004502  0.109250   8.864266  0.455604\n",
       "4    eYFP  mCherry         1.004042  0.103500   9.876543  0.431625\n",
       "2   Black     eCFP         1.003249  0.092778  12.291188  0.386912\n",
       "5    eYFP     eCFP         1.002789  0.085951  14.321429  0.358439\n",
       "0    eCFP  mCherry         1.001249  0.057500  32.000000  0.239792\n",
       "3   Black     eYFP         1.000459  0.034835  87.187027  0.145272"
      ]
     },
     "execution_count": 38,
     "metadata": {},
     "output_type": "execute_result"
    }
   ],
   "source": [
    "interact_df"
   ]
  },
  {
   "cell_type": "markdown",
   "metadata": {},
   "source": [
    "Wow. According to this, their velocity ratios are *so* small."
   ]
  },
  {
   "cell_type": "markdown",
   "metadata": {
    "collapsed": true
   },
   "source": [
    "Ok. Yes. A different measurement of $D_s$ really clears up a lot of the issues here...good. I'm not sure if I need a competition experiment. It may help to clear up issues as well, IDK. But, the issue is, things do not necessarily behave the same way on a plate as in a liquid...so it may not help me. Yeah."
   ]
  },
  {
   "cell_type": "markdown",
   "metadata": {},
   "source": [
    "# Superdiffusive substitution"
   ]
  },
  {
   "cell_type": "code",
   "execution_count": 40,
   "metadata": {
    "collapsed": false
   },
   "outputs": [
    {
     "data": {
      "text/plain": [
       "58.17953456892959"
      ]
     },
     "execution_count": 40,
     "metadata": {},
     "output_type": "execute_result"
    }
   ],
   "source": [
    "(ei.u*ei.Db/.14**2)**(2)"
   ]
  },
  {
   "cell_type": "code",
   "execution_count": null,
   "metadata": {
    "collapsed": true
   },
   "outputs": [],
   "source": []
  }
 ],
 "metadata": {
  "kernelspec": {
   "display_name": "Python 2",
   "language": "python",
   "name": "python2"
  },
  "language_info": {
   "codemirror_mode": {
    "name": "ipython",
    "version": 2
   },
   "file_extension": ".py",
   "mimetype": "text/x-python",
   "name": "python",
   "nbconvert_exporter": "python",
   "pygments_lexer": "ipython2",
   "version": "2.7.11"
  }
 },
 "nbformat": 4,
 "nbformat_minor": 0
}

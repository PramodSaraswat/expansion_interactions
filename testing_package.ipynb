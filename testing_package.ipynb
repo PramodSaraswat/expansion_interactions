{
 "cells": [
  {
   "cell_type": "code",
   "execution_count": 1,
   "metadata": {
    "collapsed": false
   },
   "outputs": [
    {
     "name": "stdout",
     "output_type": "stream",
     "text": [
      "Populating the interactive namespace from numpy and matplotlib\n"
     ]
    }
   ],
   "source": [
    "%pylab inline"
   ]
  },
  {
   "cell_type": "code",
   "execution_count": 8,
   "metadata": {
    "collapsed": true
   },
   "outputs": [],
   "source": [
    "%load_ext autoreload\n",
    "%autoreload 2"
   ]
  },
  {
   "cell_type": "code",
   "execution_count": 9,
   "metadata": {
    "collapsed": false
   },
   "outputs": [],
   "source": [
    "import seaborn as sns"
   ]
  },
  {
   "cell_type": "code",
   "execution_count": 10,
   "metadata": {
    "collapsed": true
   },
   "outputs": [],
   "source": [
    "sns.set_context('poster', font_scale=1.25)"
   ]
  },
  {
   "cell_type": "code",
   "execution_count": 11,
   "metadata": {
    "collapsed": true
   },
   "outputs": [],
   "source": [
    "sns.set_style('ticks')"
   ]
  },
  {
   "cell_type": "code",
   "execution_count": 17,
   "metadata": {
    "collapsed": true
   },
   "outputs": [],
   "source": [
    "import expansion_interactions as ei"
   ]
  },
  {
   "cell_type": "code",
   "execution_count": 23,
   "metadata": {
    "collapsed": true
   },
   "outputs": [],
   "source": [
    "strain_names = ['mCherry', 'eCFP', 'Black', 'eYFP']\n",
    "vw = [0, 0.09, 0.10, 0.14]"
   ]
  },
  {
   "cell_type": "code",
   "execution_count": 24,
   "metadata": {
    "collapsed": false
   },
   "outputs": [],
   "source": [
    "interactions = ei.Derive_From_Weakest_Strain(strain_names, vw, 'deterministic')"
   ]
  },
  {
   "cell_type": "markdown",
   "metadata": {},
   "source": [
    "We now get the dataframe we want."
   ]
  },
  {
   "cell_type": "code",
   "execution_count": 30,
   "metadata": {
    "collapsed": true
   },
   "outputs": [],
   "source": [
    "import pandas as pd"
   ]
  },
  {
   "cell_type": "code",
   "execution_count": 33,
   "metadata": {
    "collapsed": false
   },
   "outputs": [],
   "source": [
    "interact_list = []\n",
    "for i in interactions.strain_interactions:\n",
    "    # Only worry about positive interactions\n",
    "    if i.s > 0:\n",
    "        cur_list = []\n",
    "        cur_list.append(i.strain_1.name)\n",
    "        cur_list.append(i.strain_2.name)\n",
    "        cur_list.append(i.s)\n",
    "        cur_list.append(i.vw)\n",
    "        cur_list.append(i.Ls)\n",
    "        cur_list.append(i.kappa)\n",
    "        interact_list.append(cur_list)\n",
    "        \n",
    "interact_df = pd.DataFrame(data=interact_list, columns=['Sweeper',\n",
    "                                                        'Sweepee',\n",
    "                                                        's',\n",
    "                                                        'vw',\n",
    "                                                        'Ls',\n",
    "                                                        'kappa'])"
   ]
  },
  {
   "cell_type": "code",
   "execution_count": 35,
   "metadata": {
    "collapsed": false
   },
   "outputs": [],
   "source": [
    "interact_df.sort_values('Ls', inplace=True)"
   ]
  },
  {
   "cell_type": "code",
   "execution_count": 36,
   "metadata": {
    "collapsed": false
   },
   "outputs": [
    {
     "data": {
      "text/html": [
       "<div>\n",
       "<table border=\"1\" class=\"dataframe\">\n",
       "  <thead>\n",
       "    <tr style=\"text-align: right;\">\n",
       "      <th></th>\n",
       "      <th>Sweeper</th>\n",
       "      <th>Sweepee</th>\n",
       "      <th>s</th>\n",
       "      <th>vw</th>\n",
       "      <th>Ls</th>\n",
       "      <th>kappa</th>\n",
       "    </tr>\n",
       "  </thead>\n",
       "  <tbody>\n",
       "    <tr>\n",
       "      <th>3</th>\n",
       "      <td>eYFP</td>\n",
       "      <td>mCherry</td>\n",
       "      <td>0.070000</td>\n",
       "      <td>0.140000</td>\n",
       "      <td>4.250000</td>\n",
       "      <td>0.907485</td>\n",
       "    </tr>\n",
       "    <tr>\n",
       "      <th>4</th>\n",
       "      <td>eYFP</td>\n",
       "      <td>eCFP</td>\n",
       "      <td>0.041092</td>\n",
       "      <td>0.107265</td>\n",
       "      <td>7.239811</td>\n",
       "      <td>0.695297</td>\n",
       "    </tr>\n",
       "    <tr>\n",
       "      <th>1</th>\n",
       "      <td>Black</td>\n",
       "      <td>mCherry</td>\n",
       "      <td>0.035714</td>\n",
       "      <td>0.100000</td>\n",
       "      <td>8.330000</td>\n",
       "      <td>0.648204</td>\n",
       "    </tr>\n",
       "    <tr>\n",
       "      <th>5</th>\n",
       "      <td>eYFP</td>\n",
       "      <td>Black</td>\n",
       "      <td>0.034307</td>\n",
       "      <td>0.098010</td>\n",
       "      <td>8.671660</td>\n",
       "      <td>0.635306</td>\n",
       "    </tr>\n",
       "    <tr>\n",
       "      <th>0</th>\n",
       "      <td>eCFP</td>\n",
       "      <td>mCherry</td>\n",
       "      <td>0.028929</td>\n",
       "      <td>0.090000</td>\n",
       "      <td>10.283951</td>\n",
       "      <td>0.583383</td>\n",
       "    </tr>\n",
       "    <tr>\n",
       "      <th>2</th>\n",
       "      <td>Black</td>\n",
       "      <td>eCFP</td>\n",
       "      <td>0.006787</td>\n",
       "      <td>0.043595</td>\n",
       "      <td>43.830781</td>\n",
       "      <td>0.282582</td>\n",
       "    </tr>\n",
       "  </tbody>\n",
       "</table>\n",
       "</div>"
      ],
      "text/plain": [
       "  Sweeper  Sweepee         s        vw         Ls     kappa\n",
       "3    eYFP  mCherry  0.070000  0.140000   4.250000  0.907485\n",
       "4    eYFP     eCFP  0.041092  0.107265   7.239811  0.695297\n",
       "1   Black  mCherry  0.035714  0.100000   8.330000  0.648204\n",
       "5    eYFP    Black  0.034307  0.098010   8.671660  0.635306\n",
       "0    eCFP  mCherry  0.028929  0.090000  10.283951  0.583383\n",
       "2   Black     eCFP  0.006787  0.043595  43.830781  0.282582"
      ]
     },
     "execution_count": 36,
     "metadata": {},
     "output_type": "execute_result"
    }
   ],
   "source": [
    "interact_df"
   ]
  },
  {
   "cell_type": "markdown",
   "metadata": {},
   "source": [
    "Ok. Good. We need Dg in order to estimate whether the wave is noisy or not, however. Let's get that now."
   ]
  },
  {
   "cell_type": "code",
   "execution_count": null,
   "metadata": {
    "collapsed": true
   },
   "outputs": [],
   "source": []
  }
 ],
 "metadata": {
  "kernelspec": {
   "display_name": "Python 2",
   "language": "python",
   "name": "python2"
  },
  "language_info": {
   "codemirror_mode": {
    "name": "ipython",
    "version": 2
   },
   "file_extension": ".py",
   "mimetype": "text/x-python",
   "name": "python",
   "nbconvert_exporter": "python",
   "pygments_lexer": "ipython2",
   "version": "2.7.11"
  }
 },
 "nbformat": 4,
 "nbformat_minor": 0
}

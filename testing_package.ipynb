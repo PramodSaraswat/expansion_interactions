{
 "cells": [
  {
   "cell_type": "code",
   "execution_count": 1,
   "metadata": {
    "collapsed": false
   },
   "outputs": [
    {
     "name": "stdout",
     "output_type": "stream",
     "text": [
      "Populating the interactive namespace from numpy and matplotlib\n"
     ]
    }
   ],
   "source": [
    "%pylab inline"
   ]
  },
  {
   "cell_type": "code",
   "execution_count": 2,
   "metadata": {
    "collapsed": false
   },
   "outputs": [],
   "source": [
    "%load_ext autoreload\n",
    "%autoreload 2"
   ]
  },
  {
   "cell_type": "code",
   "execution_count": 3,
   "metadata": {
    "collapsed": false
   },
   "outputs": [],
   "source": [
    "import seaborn as sns"
   ]
  },
  {
   "cell_type": "code",
   "execution_count": 4,
   "metadata": {
    "collapsed": true
   },
   "outputs": [],
   "source": [
    "sns.set_context('poster', font_scale=1.25)"
   ]
  },
  {
   "cell_type": "code",
   "execution_count": 5,
   "metadata": {
    "collapsed": true
   },
   "outputs": [],
   "source": [
    "sns.set_style('ticks')"
   ]
  },
  {
   "cell_type": "code",
   "execution_count": 6,
   "metadata": {
    "collapsed": true
   },
   "outputs": [],
   "source": [
    "import expansion_interactions as ei"
   ]
  },
  {
   "cell_type": "code",
   "execution_count": 7,
   "metadata": {
    "collapsed": false
   },
   "outputs": [
    {
     "data": {
      "text/plain": [
       "0.2933673469387755"
      ]
     },
     "execution_count": 7,
     "metadata": {},
     "output_type": "execute_result"
    }
   ],
   "source": [
    "ei.sc"
   ]
  },
  {
   "cell_type": "code",
   "execution_count": 10,
   "metadata": {
    "collapsed": false
   },
   "outputs": [],
   "source": [
    "strain_names = ['mCherry', 'eCFP', 'Black', 'eYFP']\n",
    "vw = [0, 0.09, 0.10, 0.14]"
   ]
  },
  {
   "cell_type": "code",
   "execution_count": 14,
   "metadata": {
    "collapsed": false
   },
   "outputs": [
    {
     "name": "stdout",
     "output_type": "stream",
     "text": [
      "sc is: 0.293367346939\n",
      "eCFP mCherry 0.273913043478 has a noisy selection coefficient!\n",
      "Black mCherry 0.304347826087 has a deterministic selection coefficient!\n",
      "Black eCFP 0.0310825812057 has a noisy selection coefficient!\n",
      "eYFP mCherry 0.426086956522 has a deterministic selection coefficient!\n",
      "eYFP eCFP 0.156747441901 has a noisy selection coefficient!\n",
      "eYFP Black 0.125818110775 has a noisy selection coefficient!\n"
     ]
    }
   ],
   "source": [
    "interactions = ei.Derive_From_Weakest_Strain(strain_names, vw, 'noisy')"
   ]
  },
  {
   "cell_type": "markdown",
   "metadata": {},
   "source": [
    "We now get the dataframe we want."
   ]
  },
  {
   "cell_type": "code",
   "execution_count": 15,
   "metadata": {
    "collapsed": true
   },
   "outputs": [],
   "source": [
    "import pandas as pd"
   ]
  },
  {
   "cell_type": "code",
   "execution_count": 16,
   "metadata": {
    "collapsed": false
   },
   "outputs": [],
   "source": [
    "interact_list = []\n",
    "for i in interactions.strain_interactions:\n",
    "    # Only worry about positive interactions\n",
    "    if i.s > 0:\n",
    "        cur_list = []\n",
    "        cur_list.append(i.strain_1.name)\n",
    "        cur_list.append(i.strain_2.name)\n",
    "        cur_list.append(i.s)\n",
    "        cur_list.append(i.vw)\n",
    "        cur_list.append(i.Ls)\n",
    "        cur_list.append(i.kappa)\n",
    "        interact_list.append(cur_list)\n",
    "        \n",
    "interact_df = pd.DataFrame(data=interact_list, columns=['Sweeper',\n",
    "                                                        'Sweepee',\n",
    "                                                        's',\n",
    "                                                        'vw',\n",
    "                                                        'Ls',\n",
    "                                                        'kappa'])"
   ]
  },
  {
   "cell_type": "code",
   "execution_count": 17,
   "metadata": {
    "collapsed": false
   },
   "outputs": [],
   "source": [
    "interact_df.sort_values('Ls', inplace=True)"
   ]
  },
  {
   "cell_type": "code",
   "execution_count": 18,
   "metadata": {
    "collapsed": false
   },
   "outputs": [
    {
     "data": {
      "text/html": [
       "<div>\n",
       "<table border=\"1\" class=\"dataframe\">\n",
       "  <thead>\n",
       "    <tr style=\"text-align: right;\">\n",
       "      <th></th>\n",
       "      <th>Sweeper</th>\n",
       "      <th>Sweepee</th>\n",
       "      <th>s</th>\n",
       "      <th>vw</th>\n",
       "      <th>Ls</th>\n",
       "      <th>kappa</th>\n",
       "    </tr>\n",
       "  </thead>\n",
       "  <tbody>\n",
       "    <tr>\n",
       "      <th>3</th>\n",
       "      <td>eYFP</td>\n",
       "      <td>mCherry</td>\n",
       "      <td>0.426087</td>\n",
       "      <td>0.140000</td>\n",
       "      <td>5.397959</td>\n",
       "      <td>0.583840</td>\n",
       "    </tr>\n",
       "    <tr>\n",
       "      <th>1</th>\n",
       "      <td>Black</td>\n",
       "      <td>mCherry</td>\n",
       "      <td>0.304348</td>\n",
       "      <td>0.100000</td>\n",
       "      <td>10.580000</td>\n",
       "      <td>0.417029</td>\n",
       "    </tr>\n",
       "    <tr>\n",
       "      <th>0</th>\n",
       "      <td>eCFP</td>\n",
       "      <td>mCherry</td>\n",
       "      <td>0.273913</td>\n",
       "      <td>0.090000</td>\n",
       "      <td>13.061728</td>\n",
       "      <td>0.375326</td>\n",
       "    </tr>\n",
       "    <tr>\n",
       "      <th>4</th>\n",
       "      <td>eYFP</td>\n",
       "      <td>eCFP</td>\n",
       "      <td>0.156747</td>\n",
       "      <td>0.051503</td>\n",
       "      <td>39.886429</td>\n",
       "      <td>0.214781</td>\n",
       "    </tr>\n",
       "    <tr>\n",
       "      <th>5</th>\n",
       "      <td>eYFP</td>\n",
       "      <td>Black</td>\n",
       "      <td>0.125818</td>\n",
       "      <td>0.041340</td>\n",
       "      <td>61.907000</td>\n",
       "      <td>0.172401</td>\n",
       "    </tr>\n",
       "    <tr>\n",
       "      <th>2</th>\n",
       "      <td>Black</td>\n",
       "      <td>eCFP</td>\n",
       "      <td>0.031083</td>\n",
       "      <td>0.010213</td>\n",
       "      <td>1014.359549</td>\n",
       "      <td>0.042591</td>\n",
       "    </tr>\n",
       "  </tbody>\n",
       "</table>\n",
       "</div>"
      ],
      "text/plain": [
       "  Sweeper  Sweepee         s        vw           Ls     kappa\n",
       "3    eYFP  mCherry  0.426087  0.140000     5.397959  0.583840\n",
       "1   Black  mCherry  0.304348  0.100000    10.580000  0.417029\n",
       "0    eCFP  mCherry  0.273913  0.090000    13.061728  0.375326\n",
       "4    eYFP     eCFP  0.156747  0.051503    39.886429  0.214781\n",
       "5    eYFP    Black  0.125818  0.041340    61.907000  0.172401\n",
       "2   Black     eCFP  0.031083  0.010213  1014.359549  0.042591"
      ]
     },
     "execution_count": 18,
     "metadata": {},
     "output_type": "execute_result"
    }
   ],
   "source": [
    "interact_df"
   ]
  },
  {
   "cell_type": "markdown",
   "metadata": {
    "collapsed": true
   },
   "source": [
    "Ok. Yes. A different measurement of $D_s$ really clears up a lot of the issues here...good. I'm not sure if I need a competition experiment. It may help to clear up issues as well, IDK. But, the issue is, things do not necessarily behave the same way on a plate as in a liquid...so it may not help me. Yeah."
   ]
  },
  {
   "cell_type": "markdown",
   "metadata": {},
   "source": [
    "# Superdiffusive substitution"
   ]
  },
  {
   "cell_type": "code",
   "execution_count": 40,
   "metadata": {
    "collapsed": false
   },
   "outputs": [
    {
     "data": {
      "text/plain": [
       "58.17953456892959"
      ]
     },
     "execution_count": 40,
     "metadata": {},
     "output_type": "execute_result"
    }
   ],
   "source": [
    "(ei.u*ei.Db/.14**2)**(2)"
   ]
  },
  {
   "cell_type": "code",
   "execution_count": null,
   "metadata": {
    "collapsed": true
   },
   "outputs": [],
   "source": []
  }
 ],
 "metadata": {
  "kernelspec": {
   "display_name": "Python 2",
   "language": "python",
   "name": "python2"
  },
  "language_info": {
   "codemirror_mode": {
    "name": "ipython",
    "version": 2
   },
   "file_extension": ".py",
   "mimetype": "text/x-python",
   "name": "python",
   "nbconvert_exporter": "python",
   "pygments_lexer": "ipython2",
   "version": "2.7.11"
  }
 },
 "nbformat": 4,
 "nbformat_minor": 0
}
